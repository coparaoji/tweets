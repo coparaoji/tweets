{
 "cells": [
  {
   "cell_type": "code",
   "execution_count": 1,
   "metadata": {},
   "outputs": [],
   "source": [
    "import dbs\n",
    "import os,sys\n",
    "sys.path.append(os.path.dirname('../src/'))\n",
    "import tweets\n"
   ]
  },
  {
   "cell_type": "code",
   "execution_count": 2,
   "metadata": {},
   "outputs": [],
   "source": [
    "list_of_players = dbs.get_players()\n",
    "c = tweets.Tweets()\n",
    "tweets_queue = []\n",
    "conn = dbs.create_connection(\"tweets.db\")\n",
    "for player in list_of_players:\n",
    "    ids,texts,dates = c.search_player(player[0],(0,0,300))\n",
    "    if(len(texts)>0):\n",
    "        tweet_dict = {player[1]:(ids,texts,dates)}\n",
    "        tweets_queue.append(tweet_dict)\n",
    "        for idx,tweet in enumerate(ids):\n",
    "            unique_id = player[1]+str(ids[idx])\n",
    "            tweet_id = ids[idx]\n",
    "            player_id = player[1]\n",
    "            score,mag = (0,0)\n",
    "            resultant = score*mag\n",
    "            created_at=str(dates[idx])\n",
    "            record = (unique_id,tweet_id,player_id,texts[idx],score,mag,resultant,created_at)\n",
    "            with conn:\n",
    "                try:\n",
    "                    dbs.create_tweet(conn,record)\n",
    "                    print('1 success')\n",
    "                except:\n",
    "                    print('1 error')\n",
    "                    continue"
   ]
  },
  {
   "cell_type": "code",
   "execution_count": 4,
   "metadata": {},
   "outputs": [
    {
     "name": "stdout",
     "output_type": "stream",
     "text": [
      "1 success\n",
      "1 success\n",
      "1 success\n",
      "1 success\n",
      "1 success\n",
      "1 success\n"
     ]
    }
   ],
   "source": [
    "for player in list_of_players:\n",
    "    ids,texts,dates = c.search_player(player[0],(0,0,300))\n",
    "    if(len(texts)>0):\n",
    "        tweet_dict = {player[1]:(ids,texts,dates)}\n",
    "        tweets_queue.append(tweet_dict)\n",
    "        for idx,tweet in enumerate(ids):\n",
    "            unique_id = player[1]+str(ids[idx])\n",
    "            tweet_id = ids[idx]\n",
    "            player_id = player[1]\n",
    "            score,mag = (0,0)\n",
    "            resultant = score*mag\n",
    "            created_at=str(dates[idx])\n",
    "            record = (unique_id,tweet_id,player_id,texts[idx],score,mag,resultant,created_at)\n",
    "            with conn:\n",
    "                try:\n",
    "                    dbs.create_tweet(conn,record)\n",
    "                    print('1 success')\n",
    "                except:\n",
    "                    print('1 error')\n",
    "                    continue"
   ]
  },
  {
   "cell_type": "code",
   "execution_count": 16,
   "metadata": {},
   "outputs": [
    {
     "data": {
      "text/plain": [
       "[{'Jordan Poole': ([1544775551847645185,\n",
       "    1544776282638008326,\n",
       "    1544775855192276996,\n",
       "    1544776240015572996,\n",
       "    1544775459111460865],\n",
       "   ['jaxxy boy!',\n",
       "    'josh throwing hail marys, i like it.',\n",
       "    'jaxx just wants a good crack.',\n",
       "    'Chris was obsessed with Gyalis so I’m not even shocked he’s on the album https://t.co/JHFx4dwBlS',\n",
       "    '@TAYT99 @warriors Wasn’t possible. We knew this day one.'],\n",
       "   [datetime.datetime(2022, 7, 6, 20, 9, 26, tzinfo=datetime.timezone.utc),\n",
       "    datetime.datetime(2022, 7, 6, 20, 12, 20, tzinfo=datetime.timezone.utc),\n",
       "    datetime.datetime(2022, 7, 6, 20, 10, 39, tzinfo=datetime.timezone.utc),\n",
       "    datetime.datetime(2022, 7, 6, 20, 12, 10, tzinfo=datetime.timezone.utc),\n",
       "    datetime.datetime(2022, 7, 6, 20, 9, 4, tzinfo=datetime.timezone.utc)])},\n",
       " {'Andrew Wiggins': ([1544776131609600001],\n",
       "   ['@TrevorMikeal @Freddd2k Andrew Wiggins is not better bro'],\n",
       "   [datetime.datetime(2022, 7, 6, 20, 11, 44, tzinfo=datetime.timezone.utc)])},\n",
       " {'Juan Toscano-Anderson': ([1544775580092051456,\n",
       "    1544775459447009280,\n",
       "    1544775656709361664,\n",
       "    1544775414287155202],\n",
       "   ['New Lakers signing Juan Toscano-Anderson https://t.co/ssQcjPQQ0h',\n",
       "    'Juan Toscano-Anderson said he grew up a Warriors fan but is excited to join the Lakers.\\n\\n\"I\\'m a Kobe fan. That\\'s my favorite player ever.\" https://t.co/5ivBXK2W8T',\n",
       "    'Juan Toscano-Anderson feels his skillset can fit on any team due to his energy, ability to guard 1-5, etc.',\n",
       "    'Juan Toscano-Anderson says he\\'s a Kobe fan\\n\\n\"He\\'s my favorite player ever.\"'],\n",
       "   [datetime.datetime(2022, 7, 6, 20, 9, 33, tzinfo=datetime.timezone.utc),\n",
       "    datetime.datetime(2022, 7, 6, 20, 9, 4, tzinfo=datetime.timezone.utc),\n",
       "    datetime.datetime(2022, 7, 6, 20, 9, 51, tzinfo=datetime.timezone.utc),\n",
       "    datetime.datetime(2022, 7, 6, 20, 8, 53, tzinfo=datetime.timezone.utc)])},\n",
       " {'Gary Payton II': ([1544775305109331969],\n",
       "   ['Y sign a new player &amp; let go of, One of out top defenders who helped us win da 2022 NBA championship, Gary Payton II jr? https://t.co/gFbmrv1fs4'],\n",
       "   [datetime.datetime(2022, 7, 6, 20, 8, 27, tzinfo=datetime.timezone.utc)])},\n",
       " {'Stephen Curry': ([1544775397463711745,\n",
       "    1544775629417111552,\n",
       "    1544775537910026242,\n",
       "    1544776292133912576,\n",
       "    1544775942228287490],\n",
       "   ['Stephen Curry is ordinary in size but celestial in talent and has changed the game forever. AGS  dedicates this month to Stephen Curry cards. Every 10th order that includes his card will get a FREE graded slab from AGS.\\n#prizm #rookiecards #sportscard #collection #paniniprizm https://t.co/bAnATO3lp5',\n",
       "    'Chickwizz saving lives😩',\n",
       "    'Stephen Curry for the threeeeeeee https://t.co/qNWu0e5KcL',\n",
       "    '@CallMe__Mar @DreMcDonald @JohnsonWhiteNBA And if not for his defense? Stephen Curry is a problem on the offensive side of the basketball. He makes the entire defense feel depressed.',\n",
       "    '@KNKWupdates Stephen Curry'],\n",
       "   [datetime.datetime(2022, 7, 6, 20, 8, 49, tzinfo=datetime.timezone.utc),\n",
       "    datetime.datetime(2022, 7, 6, 20, 9, 45, tzinfo=datetime.timezone.utc),\n",
       "    datetime.datetime(2022, 7, 6, 20, 9, 23, tzinfo=datetime.timezone.utc),\n",
       "    datetime.datetime(2022, 7, 6, 20, 12, 23, tzinfo=datetime.timezone.utc),\n",
       "    datetime.datetime(2022, 7, 6, 20, 10, 59, tzinfo=datetime.timezone.utc)])},\n",
       " {'Otto Porter Jr.': ([1544775618373591047,\n",
       "    1544775546852282369,\n",
       "    1544775160770732032,\n",
       "    1544776214937645056,\n",
       "    1544776310228221952,\n",
       "    1544776276782743554],\n",
       "   ['“You saw what it took to put it all together … there’s a lot I can bring from Golden State to this team” - Newest Raptor Otto Porter Jr. on his championship experience. https://t.co/1B7ZH9niNU',\n",
       "    '“This team is ready to get back to the Finals.”\\n\\nOtto Porter Jr. on the Raptors and why he decided to join the squad https://t.co/JAVL2wSOLd',\n",
       "    'Otto Porter Jr. says it was “tough” to leave the Warriors for the #Raptors.\\n“I’m locked in with those guys for life… but this is a new opportunity to have aspirations of a championship here.” https://t.co/xoIyUSquaB',\n",
       "    'Toronto Raptors sign Otto Porter Jr. to a multi-year contract https://t.co/O5UTJ1pThy https://t.co/m0RGn52H7x',\n",
       "    \"Otto Porter Jr, the Vision 6'9 Proselytizer! https://t.co/C1awML2oPq\",\n",
       "    'Toronto Raptors sign Otto Porter Jr. to a multi-year contract https://t.co/9y7hBmhq99'],\n",
       "   [datetime.datetime(2022, 7, 6, 20, 9, 42, tzinfo=datetime.timezone.utc),\n",
       "    datetime.datetime(2022, 7, 6, 20, 9, 25, tzinfo=datetime.timezone.utc),\n",
       "    datetime.datetime(2022, 7, 6, 20, 7, 53, tzinfo=datetime.timezone.utc),\n",
       "    datetime.datetime(2022, 7, 6, 20, 12, 4, tzinfo=datetime.timezone.utc),\n",
       "    datetime.datetime(2022, 7, 6, 20, 12, 27, tzinfo=datetime.timezone.utc),\n",
       "    datetime.datetime(2022, 7, 6, 20, 12, 19, tzinfo=datetime.timezone.utc)])}]"
      ]
     },
     "execution_count": 16,
     "metadata": {},
     "output_type": "execute_result"
    }
   ],
   "source": [
    "tweets_queue"
   ]
  },
  {
   "cell_type": "code",
   "execution_count": 9,
   "metadata": {},
   "outputs": [
    {
     "data": {
      "text/plain": [
       "('Kevon Looney',)"
      ]
     },
     "execution_count": 9,
     "metadata": {},
     "output_type": "execute_result"
    }
   ],
   "source": []
  },
  {
   "cell_type": "code",
   "execution_count": null,
   "metadata": {},
   "outputs": [],
   "source": []
  }
 ],
 "metadata": {
  "kernelspec": {
   "display_name": "Python 3.8.10 ('tweeter': venv)",
   "language": "python",
   "name": "python3"
  },
  "language_info": {
   "codemirror_mode": {
    "name": "ipython",
    "version": 3
   },
   "file_extension": ".py",
   "mimetype": "text/x-python",
   "name": "python",
   "nbconvert_exporter": "python",
   "pygments_lexer": "ipython3",
   "version": "3.8.10"
  },
  "orig_nbformat": 4,
  "vscode": {
   "interpreter": {
    "hash": "e2c2b7ca2e81fd4f06e080ad7d061071947d83e0b90ed1c20cbcd623f1f7b9e5"
   }
  }
 },
 "nbformat": 4,
 "nbformat_minor": 2
}
