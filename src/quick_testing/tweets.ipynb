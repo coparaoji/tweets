{
 "cells": [
  {
   "cell_type": "code",
   "execution_count": 4,
   "metadata": {},
   "outputs": [],
   "source": [
    "\n",
    "bearer_token ='AAAAAAAAAAAAAAAAAAAAAHLNcgEAAAAAcT1066CikEPelcTlLn4Aie%2FMOZQ%3DFnJ57W2cK6opwqifsi9JfjuODqsFDE2x25rTtQNjNOSsVCjtlx'"
   ]
  },
  {
   "cell_type": "code",
   "execution_count": 5,
   "metadata": {},
   "outputs": [],
   "source": [
    "from tweepy import Client\n",
    "import datetime\n"
   ]
  },
  {
   "cell_type": "code",
   "execution_count": 36,
   "metadata": {},
   "outputs": [],
   "source": [
    "class tweets:\n",
    "    \"\"\"\n",
    "    This makes searches for tweets and updates the databases\n",
    "    \"\"\"\n",
    "    client = Client(bearer_token=bearer_token) \n",
    "    \n",
    "    def __init__(self):\n",
    "        pass\n",
    "\n",
    "    def search_player(self, player_name, time_back = (6,0,0)):\n",
    "        # This is for searching players with the twitter api.\n",
    "        end_datetime = datetime.datetime.today() - datetime.timedelta(days=time_back[0], hours=time_back[1], seconds=time_back[2])\n",
    "    \n",
    "        end_datetime = end_datetime.astimezone(datetime.timezone.utc)\n",
    "        \n",
    "        print(f'datetime is : {end_datetime}')\n",
    "        query = f'(entity:\"{player_name}\" OR \"{player_name}\") -is:retweet lang:en'\n",
    "        response =  self.client.search_recent_tweets(\n",
    "        query=query,\n",
    "        start_time=end_datetime,\n",
    "        sort_order='relevancy',\n",
    "        max_results=100,\n",
    "        tweet_fields= 'created_at'\n",
    "        )\n",
    "\n",
    "        ids,texts,dates=[],[],[]\n",
    "        for tweet in response.data:\n",
    "            ids.append(tweet.id)\n",
    "            texts.append(tweet.text)\n",
    "            dates.append(tweet.created_at)\n",
    "\n",
    "        return (ids, texts, dates)\n",
    "\n",
    "\n",
    "        \n",
    "        \n",
    "    "
   ]
  },
  {
   "cell_type": "code",
   "execution_count": 8,
   "metadata": {},
   "outputs": [],
   "source": [
    "\n",
    "\n",
    "client = Client(\n",
    "    bearer_token=bearer_token\n",
    ")\n",
    "\n"
   ]
  },
  {
   "cell_type": "code",
   "execution_count": 9,
   "metadata": {},
   "outputs": [],
   "source": [
    "'''\n",
    "TIme to make queries\n",
    "'''\n",
    "\n",
    "player_name = \"Steph Curry\"\n",
    "end_datetime = datetime.datetime.today() - datetime.timedelta(days=5)\n",
    "\n",
    "query = f'(entity:\"{player_name}\")'"
   ]
  },
  {
   "cell_type": "code",
   "execution_count": 97,
   "metadata": {},
   "outputs": [],
   "source": [
    "response =  client.search_recent_tweets(query=query, start_time=end_datetime,sort_order='relevancy', max_results=100, tweet_fields= 'created_at')"
   ]
  },
  {
   "cell_type": "code",
   "execution_count": 80,
   "metadata": {},
   "outputs": [],
   "source": [
    "import sentiments\n",
    "getter = sentiments.Sentiment_getter()"
   ]
  },
  {
   "cell_type": "code",
   "execution_count": 86,
   "metadata": {},
   "outputs": [
    {
     "data": {
      "text/plain": [
       "100"
      ]
     },
     "execution_count": 86,
     "metadata": {},
     "output_type": "execute_result"
    }
   ],
   "source": [
    "len(response.data)"
   ]
  },
  {
   "cell_type": "code",
   "execution_count": 92,
   "metadata": {},
   "outputs": [],
   "source": [
    "ids = []\n",
    "for tweet in response.data:\n",
    "    ids.append(tweet.id)\n",
    "\n"
   ]
  },
  {
   "cell_type": "code",
   "execution_count": 101,
   "metadata": {},
   "outputs": [
    {
     "data": {
      "text/plain": [
       "datetime.datetime"
      ]
     },
     "execution_count": 101,
     "metadata": {},
     "output_type": "execute_result"
    }
   ],
   "source": [
    "type(response.data[0].created_at)"
   ]
  },
  {
   "cell_type": "code",
   "execution_count": 108,
   "metadata": {},
   "outputs": [],
   "source": [
    "ids = [tweet.id for tweet in response.data]\n",
    "texts = [tweet.text for tweet in response.data]\n",
    "dates = [tweet.created_at for tweet in response.data]"
   ]
  },
  {
   "cell_type": "code",
   "execution_count": 110,
   "metadata": {},
   "outputs": [],
   "source": [
    "ids,texts,dates=[],[],[]\n",
    "for tweet in response.data:\n",
    "    ids.append(tweet.id)\n",
    "    texts.append(tweet.text)\n",
    "    dates.append(tweet.created_at)"
   ]
  },
  {
   "cell_type": "code",
   "execution_count": 90,
   "metadata": {},
   "outputs": [
    {
     "name": "stdout",
     "output_type": "stream",
     "text": [
      "5.500000044703484\n",
      "0.05500000044703483\n"
     ]
    }
   ],
   "source": [
    "score = 0 \n",
    " \n",
    "for tweet in response.data:\n",
    "    #s,m = getter.get_sentiment(tweet.text)\n",
    "\n",
    "    #score+=s\n",
    "print(score)\n",
    "print(score/len(response.data))\n"
   ]
  },
  {
   "cell_type": "code",
   "execution_count": 24,
   "metadata": {},
   "outputs": [],
   "source": [
    "curry_tweet = client.get_tweet(id=1212092628029698048)"
   ]
  },
  {
   "cell_type": "code",
   "execution_count": 107,
   "metadata": {},
   "outputs": [],
   "source": [
    "from nba_api.stats.static import teams\n",
    "from nba_api.stats.static import players\n"
   ]
  },
  {
   "cell_type": "code",
   "execution_count": 104,
   "metadata": {},
   "outputs": [],
   "source": [
    "i = teams.get_teams()"
   ]
  },
  {
   "cell_type": "code",
   "execution_count": 38,
   "metadata": {},
   "outputs": [
    {
     "name": "stdout",
     "output_type": "stream",
     "text": [
      "datetime is : 2022-07-06 14:45:03.634088+00:00\n"
     ]
    },
    {
     "data": {
      "text/plain": [
       "([1544694271353184259],\n",
       " ['Micheal Jordan being on the cover of 2K23 is definitely Shade to Steph Curry… ain’t no doubt in my mind. How that even happen and what is Micheal Jordan doing right now to be on the cover of 2k. #2kCommunity #2k23 #2K y’all Ass Cheeks for that.'],\n",
       " [datetime.datetime(2022, 7, 6, 14, 46, 27, tzinfo=datetime.timezone.utc)])"
      ]
     },
     "execution_count": 38,
     "metadata": {},
     "output_type": "execute_result"
    }
   ],
   "source": [
    "c =  tweets()\n",
    "\n",
    "c.search_player(\"Steph Curry\",time_back=(0,0,100))"
   ]
  },
  {
   "cell_type": "code",
   "execution_count": 22,
   "metadata": {},
   "outputs": [
    {
     "ename": "AttributeError",
     "evalue": "'datetime.datetime' object has no attribute 'toString'",
     "output_type": "error",
     "traceback": [
      "\u001b[0;31m---------------------------------------------------------------------------\u001b[0m",
      "\u001b[0;31mAttributeError\u001b[0m                            Traceback (most recent call last)",
      "\u001b[1;32m/home/alex/GreyCroc/tweets/src/quick_testing/tweets.ipynb Cell 18'\u001b[0m in \u001b[0;36m<cell line: 1>\u001b[0;34m()\u001b[0m\n\u001b[0;32m----> <a href='vscode-notebook-cell:/home/alex/GreyCroc/tweets/src/quick_testing/tweets.ipynb#ch0000017?line=0'>1</a>\u001b[0m d[\u001b[39m0\u001b[39;49m]\u001b[39m.\u001b[39;49mtoString\n",
      "\u001b[0;31mAttributeError\u001b[0m: 'datetime.datetime' object has no attribute 'toString'"
     ]
    }
   ],
   "source": [
    "d[0].toString"
   ]
  },
  {
   "cell_type": "code",
   "execution_count": null,
   "metadata": {},
   "outputs": [],
   "source": []
  }
 ],
 "metadata": {
  "interpreter": {
   "hash": "e2c2b7ca2e81fd4f06e080ad7d061071947d83e0b90ed1c20cbcd623f1f7b9e5"
  },
  "kernelspec": {
   "display_name": "Python 3.8.10 ('tweeter': venv)",
   "language": "python",
   "name": "python3"
  },
  "language_info": {
   "codemirror_mode": {
    "name": "ipython",
    "version": 3
   },
   "file_extension": ".py",
   "mimetype": "text/x-python",
   "name": "python",
   "nbconvert_exporter": "python",
   "pygments_lexer": "ipython3",
   "version": "3.8.10"
  },
  "orig_nbformat": 4
 },
 "nbformat": 4,
 "nbformat_minor": 2
}
