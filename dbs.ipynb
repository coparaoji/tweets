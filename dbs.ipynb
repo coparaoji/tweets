{
 "cells": [
  {
   "cell_type": "code",
   "execution_count": 1,
   "metadata": {},
   "outputs": [],
   "source": [
    "import sqlite3\n",
    "\n",
    "def create_connection(db_file):\n",
    "    \"\"\" create a database connection to the SQLite database\n",
    "        specified by db_file\n",
    "    :param db_file: database file\n",
    "    :return: Connection object or None\n",
    "    \"\"\"\n",
    "    conn = None\n",
    "    try:\n",
    "        conn = sqlite3.connect(db_file)\n",
    "    except Error as e:\n",
    "        print(e)\n",
    "\n",
    "    return conn\n",
    "\n",
    "def create_team(conn, team):\n",
    "    \"\"\"\n",
    "    Create a new project into the projects table\n",
    "    :param conn:\n",
    "    :param team:\n",
    "    :return: project id\n",
    "    \"\"\"\n",
    "    sql = ''' INSERT INTO team(team_name,num_tweets,score)\n",
    "              VALUES(?,?,?) '''\n",
    "    cur = conn.cursor()\n",
    "    cur.execute(sql, team)\n",
    "    conn.commit()\n",
    "    return cur.lastrowid\n",
    "\n",
    "\n",
    "def create_player(conn, player):\n",
    "    \"\"\"\n",
    "    Create a new task\n",
    "    :param conn:\n",
    "    :param player:\n",
    "    :return:\n",
    "    \"\"\"\n",
    "\n",
    "    sql = ''' INSERT INTO player(number,name,team_name,player_id)\n",
    "              VALUES(?,?,?,?) '''\n",
    "    cur = conn.cursor()\n",
    "    cur.execute(sql, player)\n",
    "    conn.commit()\n",
    "    return cur.lastrowid\n",
    "\n",
    "def create_tweet(conn, tweet):\n",
    "    \"\"\"\n",
    "    Create a new task\n",
    "    :param conn:\n",
    "    :param tweet:\n",
    "    :return:\n",
    "    \"\"\"\n",
    "\n",
    "    sql = ''' INSERT INTO tweet(tweet_id,player_id,score,created_at,text)\n",
    "              VALUES(?,?,?,?,?) '''\n",
    "    cur = conn.cursor()\n",
    "    cur.execute(sql, tweet)\n",
    "    conn.commit()\n",
    "    return cur.lastrowid"
   ]
  },
  {
   "cell_type": "code",
   "execution_count": 2,
   "metadata": {},
   "outputs": [
    {
     "name": "stdout",
     "output_type": "stream",
     "text": [
      "('5', 'Kevon Looney', 'Warriors', '5KevonWarriors')\n"
     ]
    }
   ],
   "source": [
    "database = \"/home/alex/GreyCroc/tweets/Databases/tweets.db\"\n",
    "\n",
    "conn =  create_connection(database)\n",
    "#with conn:\n",
    "    #team = ('Warriors',0,0)\n",
    "    #team_id = create_team(conn, team)\n",
    "file = open(\"Databases/Warriors.csv\", \"r\", encoding=\"utf8\")\n",
    "content = list(file.read().splitlines())\n",
    "content.pop(0)\n",
    "players = [tuple(i.split(',')) for i in content]\n",
    "print(players[0])"
   ]
  },
  {
   "cell_type": "code",
   "execution_count": 3,
   "metadata": {},
   "outputs": [
    {
     "name": "stdout",
     "output_type": "stream",
     "text": [
      "('5', 'Kevon Looney', 'Warriors', '5KevonWarriors')\n"
     ]
    }
   ],
   "source": [
    "file = open(\"Databases/Warriors.csv\", \"r\", encoding=\"utf8\")\n",
    "content = list(file.read().splitlines())\n",
    "content.pop(0)\n",
    "players = [tuple(i.split(',')) for i in content]\n",
    "print(players[0])"
   ]
  },
  {
   "cell_type": "code",
   "execution_count": 4,
   "metadata": {},
   "outputs": [],
   "source": [
    "import sentiments\n",
    "import tweets\n",
    "\n",
    "tweeter = tweets.Tweets()\n",
    "scorer = sentiments.Sentiment_getter()"
   ]
  },
  {
   "cell_type": "code",
   "execution_count": null,
   "metadata": {},
   "outputs": [],
   "source": [
    "#tweet(tweet_id,player_id,score,created_at,text)\n",
    "error_tally = 0\n",
    "for player in players:\n",
    "    tweet_ids,tweet_texts,tweet_dates = tweeter.search_player(player[1])\n",
    "    for idx,text in enumerate(tweet_texts):\n",
    "        score,mag = scorer.get_sentiment(text)\n",
    "        record = (tweet_ids[idx],player[3],score,str(tweet_dates[idx]),text)\n",
    "        with conn:\n",
    "            try:\n",
    "                print(create_tweet(conn,record))\n",
    "            except:\n",
    "                error_tally+=1\n",
    "                print(error_tally)\n",
    "                continue\n",
    "\n",
    "    "
   ]
  },
  {
   "cell_type": "code",
   "execution_count": null,
   "metadata": {},
   "outputs": [],
   "source": [
    "#for player in players:\n",
    "    #with conn:\n",
    "        #player_id = create_player(conn, player)\n",
    "        #print(player_id)"
   ]
  },
  {
   "cell_type": "code",
   "execution_count": null,
   "metadata": {},
   "outputs": [],
   "source": []
  }
 ],
 "metadata": {
  "interpreter": {
   "hash": "e2c2b7ca2e81fd4f06e080ad7d061071947d83e0b90ed1c20cbcd623f1f7b9e5"
  },
  "kernelspec": {
   "display_name": "Python 3.8.10 ('tweeter': venv)",
   "language": "python",
   "name": "python3"
  },
  "language_info": {
   "codemirror_mode": {
    "name": "ipython",
    "version": 3
   },
   "file_extension": ".py",
   "mimetype": "text/x-python",
   "name": "python",
   "nbconvert_exporter": "python",
   "pygments_lexer": "ipython3",
   "version": "3.8.10"
  },
  "orig_nbformat": 4
 },
 "nbformat": 4,
 "nbformat_minor": 2
}
