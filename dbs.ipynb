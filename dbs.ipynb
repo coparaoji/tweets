{
 "cells": [
  {
   "cell_type": "code",
   "execution_count": 1,
   "metadata": {},
   "outputs": [],
   "source": [
    "import sqlite3\n",
    "\n",
    "def create_connection(db_file):\n",
    "    \"\"\" create a database connection to the SQLite database\n",
    "        specified by db_file\n",
    "    :param db_file: database file\n",
    "    :return: Connection object or None\n",
    "    \"\"\"\n",
    "    conn = None\n",
    "    try:\n",
    "        conn = sqlite3.connect(db_file)\n",
    "    except Error as e:\n",
    "        print(e)\n",
    "\n",
    "    return conn\n",
    "def create_team(conn, team):\n",
    "    \"\"\"\n",
    "    Create a new project into the projects table\n",
    "    :param conn:\n",
    "    :param team:\n",
    "    :return: project id\n",
    "    \"\"\"\n",
    "    sql = ''' INSERT INTO team(team_name,num_tweets,score)\n",
    "              VALUES(?,?,?) '''\n",
    "    cur = conn.cursor()\n",
    "    cur.execute(sql, team)\n",
    "    conn.commit()\n",
    "    return cur.lastrowid\n",
    "\n",
    "    \n",
    "def create_team(conn, team):\n",
    "    \"\"\"\n",
    "    Create a new project into the projects table\n",
    "    :param conn:\n",
    "    :param team:\n",
    "    :return: project id\n",
    "    \"\"\"\n",
    "    sql = ''' INSERT INTO team(team_name,num_tweets,score)\n",
    "              VALUES(?,?,?) '''\n",
    "    cur = conn.cursor()\n",
    "    cur.execute(sql, team)\n",
    "    conn.commit()\n",
    "    return cur.lastrowid\n",
    "\n",
    "\n",
    "def create_player(conn, player):\n",
    "    \"\"\"\n",
    "    Create a new task\n",
    "    :param conn:\n",
    "    :param player:\n",
    "    :return:\n",
    "    \"\"\"\n",
    "\n",
    "    sql = ''' INSERT INTO player(number,name,team_name,player_id)\n",
    "              VALUES(?,?,?,?) '''\n",
    "    cur = conn.cursor()\n",
    "    cur.execute(sql, player)\n",
    "    conn.commit()\n",
    "    return cur.lastrowid\n",
    "\n",
    "def create_tweet(conn, tweet):\n",
    "    \"\"\"\n",
    "    Create a new task\n",
    "    :param conn:\n",
    "    :param tweet:\n",
    "    :return:\n",
    "    \"\"\"\n",
    "\n",
    "    sql = ''' INSERT INTO tweet(unique_id,tweet_id,player_id,text,score,magnitude,resultant,created_at)\n",
    "              VALUES(?,?,?,?,?,?,?,?) '''\n",
    "    cur = conn.cursor()\n",
    "    cur.execute(sql, tweet)\n",
    "    conn.commit()\n",
    "    return cur.lastrowid"
   ]
  },
  {
   "cell_type": "code",
   "execution_count": 2,
   "metadata": {},
   "outputs": [
    {
     "name": "stdout",
     "output_type": "stream",
     "text": [
      "['5', 'Kevon Looney', 'Warriors', '5KevonLooneyWarriors']\n"
     ]
    }
   ],
   "source": [
    "database = \"/home/alex/GreyCroc/tweets/Databases/tweets.db\"\n",
    "\n",
    "conn =  create_connection(database)\n",
    "#with conn:\n",
    "    #team = ('Warriors',0,0)\n",
    "    #team_id = create_team(conn, team)\n",
    "file = open(\"Databases/Warriors.csv\", \"r\", encoding=\"utf8\")\n",
    "content = list(file.read().splitlines())\n",
    "content.pop(0)\n",
    "players=[]\n",
    "for i in content:\n",
    "    x = i.split(',')[0:3]\n",
    "    y = ''.join(x)\n",
    "    y = y.replace(' ', '')\n",
    "    x.append(y)\n",
    "    players.append(x)\n",
    "\n",
    "print(players[0])"
   ]
  },
  {
   "cell_type": "code",
   "execution_count": 3,
   "metadata": {},
   "outputs": [],
   "source": [
    "import sentiments\n",
    "import tweets\n",
    "\n",
    "tweeter = tweets.Tweets()\n",
    "scorer = sentiments.Sentiment_getter()"
   ]
  },
  {
   "cell_type": "code",
   "execution_count": null,
   "metadata": {},
   "outputs": [],
   "source": [
    "'''\n",
    "CREATE TRIGGER update_player_table_for_deletion\n",
    "AFTER DELETE ON tweet\n",
    "BEGIN\n",
    "UPDATE player\n",
    "SET\n",
    "\tnum_tweets = num_tweets -1,\n",
    "\tscore_avg = (score_avg*num_tweets+score_avg-NEW.score)/num_tweets,\n",
    "\tmag_avg = (mag_avg*num_tweets+mag_avg-NEW.magnitude)/num_tweets,\n",
    "    res_avg = (res_avg*num_tweets+res_avg-NEW.resultant)/num_tweets,\n",
    "WHERE\n",
    "\tplayer_id = NEW.player_id;\n",
    "END;\n",
    "\n",
    "CREATE TRIGGER update_player_table_for_insertion\n",
    "AFTER INSERT ON tweet\n",
    "BEGIN\n",
    "UPDATE player\n",
    "SET\n",
    "\tnum_tweets = num_tweets +1,\n",
    "\tscore_avg = (score_avg*num_tweets-score_avg+NEW.score)/num_tweets,\n",
    "\tmag_avg = (mag_avg*num_tweets-mag_avg+NEW.magnitude)/num_tweets,\n",
    "    res_avg = (res_avg*num_tweets-res_avg+NEW.resultant)/num_tweets\n",
    "WHERE\n",
    "\tplayer_id = NEW.player_id;\n",
    "END\n",
    "'''"
   ]
  },
  {
   "cell_type": "code",
   "execution_count": 8,
   "metadata": {},
   "outputs": [
    {
     "name": "stdout",
     "output_type": "stream",
     "text": [
      "0.18000000201165675 0.6020000022649765 0.13659999977946286\n",
      "0.008000001087784767 0.5170000002533197 0.012500000298023181\n",
      "0.032000002413988114 0.6989999999850989 0.023400002984702607\n",
      "-0.006756756354022671 0.5162162179681095 -0.008918918802126075\n",
      "0.07400000087916851 0.6350000023841857 0.0994000011593103\n",
      "0.009999999552965164 0.5980000029504299 0.036699999767541944\n",
      "0.12000000201165677 0.47400000438094136 0.0895000011846423\n",
      "0.19300000384449958 0.6840000033378602 0.16380000399500133\n",
      "0.11800000168383122 0.5150000040233135 0.0994000012934208\n",
      "-0.06400000013411045 0.5290000030398369 -0.06599999924749136\n",
      "0.027000000178813936 0.46900000467896463 0.029800000724196415\n",
      "-0.02699999913573265 0.873999999538064 -0.03739999934881931\n",
      "0.013483146100901486 0.36741573296571045 0.0038202248496956087\n",
      "0.012000000029802322 0.6580000027269125 0.018899997925758326\n",
      "0.030000000596046447 0.5340000027418137 0.042000000894069654\n",
      "-0.001234565528086674 0.713580242001716 0.018518516945618013\n",
      "0.03500000029802322 0.47500000447034835 0.007699999797344186\n"
     ]
    }
   ],
   "source": [
    "def set_avg(player_id1):\n",
    "    sql_query = '''SELECT score,magnitude,resultant FROM tweet WHERE player_id=?'''\n",
    "    cursor = conn.cursor()\n",
    "    cursor.execute(sql_query, (player_id1,))\n",
    "    rows = cursor.fetchall()\n",
    "\n",
    "    sql_update_query = '''UPDATE player\n",
    "                    SET\n",
    "                    score_avg = ?,\n",
    "                    mag_avg = ?,\n",
    "                    res_avg = ?\n",
    "                    WHERE player_id=?'''\n",
    "    sum_score,sum_mag,sum_res = 0,0,0\n",
    "    for i in rows:\n",
    "        sum_score += i[0]\n",
    "        sum_mag += i[1]\n",
    "        sum_res += i[2]\n",
    "    score_avg = sum_score/len(rows)\n",
    "    mag_avg = sum_mag/len(rows)\n",
    "    res_avg = sum_res/len(rows)\n",
    "    cursor.execute(sql_update_query, (score_avg,mag_avg,res_avg,player_id1))\n",
    "    conn.commit()\n",
    "    print(score_avg,mag_avg,res_avg)\n",
    "    return \n",
    "\n",
    "for i in players:\n",
    "    set_avg(i[3])\n"
   ]
  },
  {
   "cell_type": "code",
   "execution_count": null,
   "metadata": {},
   "outputs": [],
   "source": [
    "sum_score,sum_mag,sum_res = 0,0,0\n",
    "for i in r:\n",
    "    sum_score += i[0]\n",
    "    sum_mag += i[1]\n",
    "    sum_res += i[2]\n",
    "score_avg = sum_score/len(r)\n",
    "mag_avg = sum_mag/len(r)\n",
    "res_avg = sum_res/len(r)"
   ]
  },
  {
   "cell_type": "code",
   "execution_count": null,
   "metadata": {},
   "outputs": [],
   "source": [
    "from math import average\n",
    "average()"
   ]
  },
  {
   "cell_type": "code",
   "execution_count": 4,
   "metadata": {},
   "outputs": [
    {
     "name": "stdout",
     "output_type": "stream",
     "text": [
      "done\n",
      "done\n",
      "done\n"
     ]
    }
   ],
   "source": [
    "#tweet(tweet_id,player_id,score,created_at,text)\n",
    "'''error_tally = 0\n",
    "total_success = 0\n",
    "for player in players:\n",
    "    create_player(conn, tuple(player))\n",
    "    tweet_ids,tweet_texts,tweet_dates = tweeter.search_player(player[1])\n",
    "    for idx,text in enumerate(tweet_texts):\n",
    "        unique_id = player[3]+str(tweet_ids[idx])\n",
    "        tweet_id = tweet_ids[idx]\n",
    "        player_id = player[3]\n",
    "        #score,mag = scorer.get_sentiment(text)\n",
    "        resultant = score*mag\n",
    "        created_at=str(tweet_dates[idx])\n",
    "        record = (unique_id,tweet_id,player_id,text,score,mag,resultant,created_at)\n",
    "        with conn:\n",
    "            try:\n",
    "                create_tweet(conn,record)\n",
    "                total_success+=1\n",
    "                if(total_success%500==0):\n",
    "                    print('done')\n",
    "            except:\n",
    "                error_tally+=1\n",
    "                continue'''\n",
    "\n",
    "    "
   ]
  },
  {
   "cell_type": "code",
   "execution_count": null,
   "metadata": {},
   "outputs": [],
   "source": [
    "#for player in players:\n",
    "    #with conn:\n",
    "        #player_id = create_player(conn, player)\n",
    "        #print(player_id)"
   ]
  },
  {
   "cell_type": "code",
   "execution_count": null,
   "metadata": {},
   "outputs": [],
   "source": []
  }
 ],
 "metadata": {
  "interpreter": {
   "hash": "e2c2b7ca2e81fd4f06e080ad7d061071947d83e0b90ed1c20cbcd623f1f7b9e5"
  },
  "kernelspec": {
   "display_name": "Python 3.8.10 ('tweeter': venv)",
   "language": "python",
   "name": "python3"
  },
  "language_info": {
   "codemirror_mode": {
    "name": "ipython",
    "version": 3
   },
   "file_extension": ".py",
   "mimetype": "text/x-python",
   "name": "python",
   "nbconvert_exporter": "python",
   "pygments_lexer": "ipython3",
   "version": "3.8.10"
  },
  "orig_nbformat": 4
 },
 "nbformat": 4,
 "nbformat_minor": 2
}
