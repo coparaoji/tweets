{
 "cells": [
  {
   "cell_type": "code",
   "execution_count": 12,
   "metadata": {},
   "outputs": [],
   "source": [
    "consumer_key=\"R7hujuLbPCOelX5HkqRkXrSBp\"\n",
    "consumer_secret=\"QBmNymHWiPlZiLX1gluOotrQTz2AMVi64dtzTdNaA3jsVwYlvt\"\n",
    "access_token=\"1238201004539199492-xR2KRxSSIcpaEpnPO39AvYlRlVKwTe\"\n",
    "access_token_secret=\"SMXcjv4vCxE0fvEREckYvaOSnOk92ZqPOzDiXaDBpTKVe\"\n",
    "bearer_token ='AAAAAAAAAAAAAAAAAAAAAHLNcgEAAAAAcT1066CikEPelcTlLn4Aie%2FMOZQ%3DFnJ57W2cK6opwqifsi9JfjuODqsFDE2x25rTtQNjNOSsVCjtlx'\n"
   ]
  },
  {
   "cell_type": "code",
   "execution_count": 13,
   "metadata": {},
   "outputs": [],
   "source": [
    "import tweepy\n",
    "\n",
    "client = tweepy.Client(\n",
    "    consumer_key=consumer_key,\n",
    "    consumer_secret=consumer_secret,\n",
    "    access_token=access_token,\n",
    "    access_token_secret=access_token_secret,\n",
    "    bearer_token=bearer_token\n",
    ")\n",
    "\n"
   ]
  },
  {
   "cell_type": "code",
   "execution_count": 14,
   "metadata": {},
   "outputs": [],
   "source": [
    "sas = client.get_user(username='stephenasmith')"
   ]
  },
  {
   "cell_type": "code",
   "execution_count": 21,
   "metadata": {},
   "outputs": [
    {
     "data": {
      "text/plain": [
       "int"
      ]
     },
     "execution_count": 21,
     "metadata": {},
     "output_type": "execute_result"
    }
   ],
   "source": [
    "type(sas.data.id)"
   ]
  },
  {
   "cell_type": "code",
   "execution_count": 24,
   "metadata": {},
   "outputs": [
    {
     "name": "stdout",
     "output_type": "stream",
     "text": [
      "Response(data=[<List id=1531804653624623106 name=BBNaija>, <List id=1529839677024387078 name=US Reproductive Voices>, <List id=1524423206957981700 name=2023 Nigeria Elections>, <List id=1470518594312179712 name=Hong Kong LegCo Election>, <List id=1520024546681704449 name=jazz fest 2022>, <List id=1514224553534402565 name=NFL Draft: Top150 players>, <List id=1514060990677061635 name=Faith Voices>, <List id=1514039936562827265 name=Muslim Voices>, <List id=1507004455136374790 name=IPL Broadcast List 2022>, <List id=1477798441346502656 name=Tasmania>, <List id=1478135647021920256 name=New South Wales>, <List id=1498457571216134144 name=Ukraine: latest news>, <List id=1461079422170185738 name=2022 Winter Olympics USA>, <List id=1473135377619644420 name=Northern Territory>, <List id=1473129445586137088 name=Queensland>, <List id=1473074780668510208 name=The ACT>, <List id=1473813133751771138 name=NYE 2021/2022 (Trends)>, <List id=1473126273937403905 name=NY bill debunk>, <List id=1458815814728044545 name=Music writers>, <List id=874200090826506240 name=N:Phillipines>, <List id=1453000363406204945 name=Africa News>, <List id=1364419210558861313 name=Grammy Awards - Brands>, <List id=1247315539585896448 name=N: Wisconsin Politics>, <List id=1449009604948631554 name=US Travel>, <List id=1448308349938946053 name=World News>, <List id=1448002035643731979 name=Minecraft>, <List id=1440849790107996162 name=US Women's Soccer>, <List id=1156226626868432897 name=Syria news and analysis>, <List id=1214876531199053826 name=N: Aviation journalists>, <List id=716304666263494657 name=Middle East Reporters>, <List id=1432737362224762882 name=Made In America>, <List id=1430716750186745860 name=International Dog Day>, <List id=1397969217413058560 name=Nigeria at Tokyo 2020>, <List id=1401530491560509441 name=United States Tokyo 2020>, <List id=1412186142196174860 name=Paralympic Committees 🌎>, <List id=1412185832350384129 name=Paralympic athletes 🥇>, <List id=1412185115401232384 name=Team USA at Tokyo 2020>, <List id=1412185624329691138 name=Media at Tokyo 2020>, <List id=1413163572704727044 name=Spelling Bee>, <List id=1412236463857496065 name=Surfing>, <List id=233965796 name=US News Outlets>, <List id=860894070125862913 name=Kentucky Derby>, <List id=1161269097461616641 name=N: Southeast Asia>, <List id=1384291479758118921 name=N: East Asia>, <List id=1384291149695782918 name=N: South Asia>, <List id=713704019408130048 name=SPACE>, <List id=1374762931615842309 name=White House reporters>, <List id=1364646589797646339 name=Congressional reporters>, <List id=722577818287104001 name=NBA Beat Writers>, <List id=1367527464113758208 name=March Madness (Women)>, <List id=1367524410878554113 name=March Madness 2022 (Men)>, <List id=1362257316909780992 name=COVID-19: NZ Government>, <List id=1361637474586476544 name=COVID-19: Scientists>, <List id=1359827179023069185 name=COVID-19: US reporters>, <List id=1360271410615226370 name=COVID-19: Universities>, <List id=1362240986022223876 name=COVID-19:Experts in AU/NZ>, <List id=1361667773357826051 name=COVID-19: Reporters AU/NZ>, <List id=1362063263249272834 name=COVID-19: US officials>, <List id=1362501074951806982 name=Nigerian influencers>, <List id=1362363783717486593 name=COVID-19: UK scientists>, <List id=1361602217325830145 name=COVID-19: Canada news>, <List id=1362219709312028672 name=COVID-19: Australia>, <List id=1359741132142301195 name=COVID-19: Lab research>, <List id=1362094558784421890 name=COVID-19: United States>, <List id=1362093683319914499 name=COVID-19: Canada>, <List id=1359902293336932358 name=COVID-19: Ireland news>, <List id=1359925122686218241 name=COVID-19: Ireland>, <List id=1359924126648045573 name=COVID-19: United Kingdom>, <List id=1359798799351373825 name=COVID-19: Reporters>, <List id=1359586593187770371 name=COVID-19: Med Journals>, <List id=1356346958357651458 name=NA: nor'easter 2021>, <List id=234073791 name=Weather>, <List id=719736083370541060 name=NBA Twitter 101>, <List id=1307727422096248833 name=Immigration>, <List id=1310260633137541122 name=Supreme Court>, <List id=1308147106251767809 name=Retirement security>, <List id=1308231233323765760 name=Healthcare>, <List id=1308281640263626754 name=Employment & the economy>, <List id=1308518696961347584 name=COVID-19>, <List id=1308140854524162059 name=Climate change>, <List id=1306703145612046336 name=Taxes>, <List id=1306639009481981953 name=Economists>, <List id=1306569715901489152 name=S: IPL Broadcast>, <List id=1306182879702024192 name=S: Cricket All>, <List id=1304078309446295552 name=TX: noticias electorales>, <List id=1304077260773822469 name=NM: noticias electorales>, <List id=1304076921475608584 name=NM: noticias electorales>, <List id=1304076917360951296 name=NY: noticias electorales>, <List id=1304076418272366597 name=FL: noticias electorales>, <List id=1304075185331597312 name=CA: noticias electorales>, <List id=1304074456051208194 name=AZ: noticias electorales>, <List id=1304061341108494336 name=Florida: election news>, <List id=1304061015785705478 name=Georgia: election news>, <List id=1304060934424494080 name=Hawaii: election news>, <List id=1304060460409462784 name=CT: election news>, <List id=1304060424883769350 name=Idaho: election news>, <List id=1304059644181180417 name=Delaware: election news>, <List id=1304059056668241921 name=ND: election news>, <List id=1304058858181136384 name=Utah: election news>, <List id=1304058656879673345 name=Vermont: election news>], includes={}, errors=[], meta={'result_count': 100, 'next_token': '1677456086607669141'})\n"
     ]
    }
   ],
   "source": [
    "me = client.get_user(username='opaWOWji').data\n",
    "twitter_page = client.get_user(username='TwitterMoments').data\n",
    "lists = client.get_owned_lists(twitter_page.id)\n",
    "type(lists.data)"
   ]
  },
  {
   "cell_type": "code",
   "execution_count": 27,
   "metadata": {},
   "outputs": [
    {
     "data": {
      "text/plain": [
       "<List id=1529839677024387078 name=US Reproductive Voices>"
      ]
     },
     "execution_count": 27,
     "metadata": {},
     "output_type": "execute_result"
    }
   ],
   "source": [
    "lists.data[1]"
   ]
  },
  {
   "cell_type": "code",
   "execution_count": 28,
   "metadata": {},
   "outputs": [],
   "source": []
  },
  {
   "cell_type": "code",
   "execution_count": null,
   "metadata": {},
   "outputs": [],
   "source": []
  }
 ],
 "metadata": {
  "interpreter": {
   "hash": "e2c2b7ca2e81fd4f06e080ad7d061071947d83e0b90ed1c20cbcd623f1f7b9e5"
  },
  "kernelspec": {
   "display_name": "Python 3.8.10 ('tweeter': venv)",
   "language": "python",
   "name": "python3"
  },
  "language_info": {
   "codemirror_mode": {
    "name": "ipython",
    "version": 3
   },
   "file_extension": ".py",
   "mimetype": "text/x-python",
   "name": "python",
   "nbconvert_exporter": "python",
   "pygments_lexer": "ipython3",
   "version": "3.8.10"
  },
  "orig_nbformat": 4
 },
 "nbformat": 4,
 "nbformat_minor": 2
}
