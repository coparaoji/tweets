{
 "cells": [
  {
   "cell_type": "code",
   "execution_count": 33,
   "metadata": {},
   "outputs": [],
   "source": [
    "\n",
    "bearer_token ='AAAAAAAAAAAAAAAAAAAAAHLNcgEAAAAAcT1066CikEPelcTlLn4Aie%2FMOZQ%3DFnJ57W2cK6opwqifsi9JfjuODqsFDE2x25rTtQNjNOSsVCjtlx'"
   ]
  },
  {
   "cell_type": "code",
   "execution_count": 44,
   "metadata": {},
   "outputs": [],
   "source": [
    "from tweepy import Client\n",
    "import datetime\n"
   ]
  },
  {
   "cell_type": "code",
   "execution_count": 47,
   "metadata": {},
   "outputs": [
    {
     "data": {
      "text/plain": [
       "datetime.datetime(2022, 5, 30, 13, 26, 29, 851675)"
      ]
     },
     "execution_count": 47,
     "metadata": {},
     "output_type": "execute_result"
    }
   ],
   "source": [
    "class tweets:\n",
    "    \"\"\"\n",
    "    This makes searches for tweets and updates the databases\n",
    "    \"\"\"\n",
    "    client = Client(bearer_token=bearer_token) \n",
    "    \n",
    "    def __init__(self):\n",
    "        pass\n",
    "\n",
    "    def search_player(self,player_name):\n",
    "        # This is for searching players with the twitter api.\n",
    "        end_datetime = datetime.datetime.today() - datetime.timedelta(days=5)\n",
    "\n",
    "        query = f'(entity:\"{player_name}\")'\n",
    "\n",
    "        response =  client.search_recent_tweets(\n",
    "        query=query,\n",
    "        start_time=end_datetime,\n",
    "        sort_order='relevancy',\n",
    "        max_results=100\n",
    "        )\n",
    "\n",
    "        tweet_ids = [tweet.id for tweet in response.data]\n",
    "        tweet_texts = [tweet.text for tweet in response.data]\n",
    "\n",
    "        return (tweet_ids, tweet_texts)\n",
    "\n",
    "\n",
    "        \n",
    "        \n",
    "    "
   ]
  },
  {
   "cell_type": "code",
   "execution_count": 40,
   "metadata": {},
   "outputs": [],
   "source": [
    "\n",
    "\n",
    "client = Client(\n",
    "    bearer_token=bearer_token\n",
    ")\n",
    "\n"
   ]
  },
  {
   "cell_type": "code",
   "execution_count": 88,
   "metadata": {},
   "outputs": [],
   "source": [
    "'''\n",
    "TIme to make queries\n",
    "'''\n",
    "\n",
    "player_name = \"Steph Curry\"\n",
    "end_datetime = datetime.datetime.today() - datetime.timedelta(days=5)\n",
    "\n",
    "query = f'(entity:\"{player_name}\")'"
   ]
  },
  {
   "cell_type": "code",
   "execution_count": 97,
   "metadata": {},
   "outputs": [],
   "source": [
    "response =  client.search_recent_tweets(query=query, start_time=end_datetime,sort_order='relevancy', max_results=100, tweet_fields= 'created_at')"
   ]
  },
  {
   "cell_type": "code",
   "execution_count": 80,
   "metadata": {},
   "outputs": [],
   "source": [
    "import sentiments\n",
    "getter = sentiments.Sentiment_getter()"
   ]
  },
  {
   "cell_type": "code",
   "execution_count": 86,
   "metadata": {},
   "outputs": [
    {
     "data": {
      "text/plain": [
       "100"
      ]
     },
     "execution_count": 86,
     "metadata": {},
     "output_type": "execute_result"
    }
   ],
   "source": [
    "len(response.data)"
   ]
  },
  {
   "cell_type": "code",
   "execution_count": 92,
   "metadata": {},
   "outputs": [],
   "source": [
    "ids = []\n",
    "for tweet in response.data:\n",
    "    ids.append(tweet.id)\n",
    "\n"
   ]
  },
  {
   "cell_type": "code",
   "execution_count": 101,
   "metadata": {},
   "outputs": [
    {
     "data": {
      "text/plain": [
       "datetime.datetime"
      ]
     },
     "execution_count": 101,
     "metadata": {},
     "output_type": "execute_result"
    }
   ],
   "source": [
    "type(response.data[0].created_at)"
   ]
  },
  {
   "cell_type": "code",
   "execution_count": 108,
   "metadata": {},
   "outputs": [],
   "source": [
    "ids = [tweet.id for tweet in response.data]\n",
    "texts = [tweet.text for tweet in response.data]\n",
    "dates = [tweet.created_at for tweet in response.data]"
   ]
  },
  {
   "cell_type": "code",
   "execution_count": 110,
   "metadata": {},
   "outputs": [],
   "source": [
    "ids,texts,dates=[],[],[]\n",
    "for tweet in response.data:\n",
    "    ids.append(tweet.id)\n",
    "    texts.append(tweet.text)\n",
    "    dates.append(tweet.created_at)"
   ]
  },
  {
   "cell_type": "code",
   "execution_count": 90,
   "metadata": {},
   "outputs": [
    {
     "name": "stdout",
     "output_type": "stream",
     "text": [
      "5.500000044703484\n",
      "0.05500000044703483\n"
     ]
    }
   ],
   "source": [
    "score = 0 \n",
    " \n",
    "for tweet in response.data:\n",
    "    #s,m = getter.get_sentiment(tweet.text)\n",
    "\n",
    "    #score+=s\n",
    "print(score)\n",
    "print(score/len(response.data))\n"
   ]
  },
  {
   "cell_type": "code",
   "execution_count": 24,
   "metadata": {},
   "outputs": [],
   "source": [
    "curry_tweet = client.get_tweet(id=1212092628029698048)"
   ]
  },
  {
   "cell_type": "code",
   "execution_count": 107,
   "metadata": {},
   "outputs": [],
   "source": [
    "from nba_api.stats.static import teams\n",
    "from nba_api.stats.static import players\n"
   ]
  },
  {
   "cell_type": "code",
   "execution_count": 104,
   "metadata": {},
   "outputs": [],
   "source": [
    "i = teams.get_teams()"
   ]
  },
  {
   "cell_type": "code",
   "execution_count": 106,
   "metadata": {},
   "outputs": [
    {
     "data": {
      "text/plain": [
       "30"
      ]
     },
     "execution_count": 106,
     "metadata": {},
     "output_type": "execute_result"
    }
   ],
   "source": [
    "warriors  =players.fin"
   ]
  },
  {
   "cell_type": "code",
   "execution_count": null,
   "metadata": {},
   "outputs": [],
   "source": []
  }
 ],
 "metadata": {
  "interpreter": {
   "hash": "e2c2b7ca2e81fd4f06e080ad7d061071947d83e0b90ed1c20cbcd623f1f7b9e5"
  },
  "kernelspec": {
   "display_name": "Python 3.8.10 ('tweeter': venv)",
   "language": "python",
   "name": "python3"
  },
  "language_info": {
   "codemirror_mode": {
    "name": "ipython",
    "version": 3
   },
   "file_extension": ".py",
   "mimetype": "text/x-python",
   "name": "python",
   "nbconvert_exporter": "python",
   "pygments_lexer": "ipython3",
   "version": "3.8.10"
  },
  "orig_nbformat": 4
 },
 "nbformat": 4,
 "nbformat_minor": 2
}
