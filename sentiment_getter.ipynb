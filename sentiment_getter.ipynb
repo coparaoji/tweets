{
 "cells": [
  {
   "cell_type": "code",
   "execution_count": 1,
   "metadata": {},
   "outputs": [],
   "source": [
    "import requests\n",
    "api_url = \"https://jsonplaceholder.typicode.com/todos\"\n",
    "todo = {\"userId\": 1, \"title\": \"Buy milk\", \"completed\": False}\n",
    "response = requests.post(api_url, json=todo)\n",
    "jj = response.json()\n",
    "\n",
    "\n",
    "code = response.status_code"
   ]
  },
  {
   "cell_type": "code",
   "execution_count": 3,
   "metadata": {},
   "outputs": [
    {
     "name": "stdout",
     "output_type": "stream",
     "text": [
      "ELECTRON_RUN_AS_NODE=1\n",
      "GJS_DEBUG_TOPICS=JS ERROR;JS LOG\n",
      "LANGUAGE=en_US\n",
      "USER=alex\n",
      "XDG_SEAT=seat0\n",
      "XDG_SESSION_TYPE=x11\n",
      "SSH_AGENT_PID=1169\n",
      "SHLVL=0\n",
      "HOME=/home/alex\n",
      "DESKTOP_SESSION=cinnamon\n",
      "GIO_LAUNCHED_DESKTOP_FILE=/usr/share/applications/code.desktop\n",
      "GTK_MODULES=gail:atk-bridge\n",
      "XDG_SEAT_PATH=/org/freedesktop/DisplayManager/Seat0\n",
      "DBUS_SESSION_BUS_ADDRESS=unix:path=/run/user/1000/bus\n",
      "CINNAMON_VERSION=5.0.7\n",
      "GIO_LAUNCHED_DESKTOP_FILE_PID=109786\n",
      "MANDATORY_PATH=/usr/share/gconf/cinnamon.mandatory.path\n",
      "QT_QPA_PLATFORMTHEME=qt5ct\n",
      "LOGNAME=alex\n",
      "XDG_SESSION_CLASS=user\n",
      "DEFAULTS_PATH=/usr/share/gconf/cinnamon.default.path\n",
      "XDG_SESSION_ID=c1\n",
      "GTK_OVERLAY_SCROLLING=1\n",
      "GNOME_DESKTOP_SESSION_ID=this-is-deprecated\n",
      "PATH=/home/alex/GreyCroc/tweeter/bin:/home/alex/GreyCroc/tweeter/bin:/home/alex/.local/bin:/home/alex/miniconda3/bin:/home/alex/.local/bin:/usr/local/sbin:/usr/local/bin:/usr/sbin:/usr/bin:/sbin:/bin:/usr/games:/usr/local/games:/snap/bin:/home/alex/bin:/home/alex/JavaDownload/jdk1.8.0/bin:/home/alex/bin:/home/alex/JavaDownload/jdk1.8.0/bin\n",
      "GDM_LANG=en_US\n",
      "GTK3_MODULES=xapp-gtk3-module\n",
      "SESSION_MANAGER=local/alex-XPS-15-9570:@/tmp/.ICE-unix/1096,unix/alex-XPS-15-9570:/tmp/.ICE-unix/1096\n",
      "XDG_SESSION_PATH=/org/freedesktop/DisplayManager/Session0\n",
      "XDG_RUNTIME_DIR=/run/user/1000\n",
      "DISPLAY=:0\n",
      "LANG=en_US.UTF-8\n",
      "XDG_CURRENT_DESKTOP=X-Cinnamon\n",
      "XDG_SESSION_DESKTOP=cinnamon\n",
      "XAUTHORITY=/home/alex/.Xauthority\n",
      "XDG_GREETER_DATA_DIR=/var/lib/lightdm-data/alex\n",
      "SSH_AUTH_SOCK=/run/user/1000/keyring/ssh\n",
      "SHELL=/bin/bash\n",
      "QT_ACCESSIBILITY=1\n",
      "GDMSESSION=cinnamon\n",
      "GPG_AGENT_INFO=/run/user/1000/gnupg/S.gpg-agent:0:1\n",
      "GJS_DEBUG_OUTPUT=stderr\n",
      "XDG_VTNR=7\n",
      "JAVA_HOME=/home/alex/JavaDownload/jdk1.8.0\n",
      "PWD=/home/alex\n",
      "XDG_CONFIG_DIRS=/etc/xdg/xdg-cinnamon:/etc/xdg\n",
      "XDG_DATA_DIRS=/usr/share/cinnamon:/usr/share/gnome:/home/alex/.local/share/flatpak/exports/share:/var/lib/flatpak/exports/share:/usr/local/share:/usr/share\n",
      "CHROME_DESKTOP=code-url-handler.desktop\n",
      "ORIGINAL_XDG_CURRENT_DESKTOP=X-Cinnamon\n",
      "VSCODE_CWD=/home/alex\n",
      "GDK_BACKEND=x11\n",
      "VSCODE_NLS_CONFIG={\"locale\":\"en-us\",\"availableLanguages\":{},\"_languagePackSupport\":true}\n",
      "VSCODE_CODE_CACHE_PATH=/home/alex/.config/Code/CachedData/c3511e6c69bb39013c4a4b7b9566ec1ca73fc4d5\n",
      "VSCODE_IPC_HOOK=/run/user/1000/vscode-d32d3ff9-1.67.2-main.sock\n",
      "VSCODE_PID=109786\n",
      "LS_COLORS=\n",
      "LESSCLOSE=/usr/bin/lesspipe %s %s\n",
      "LESSOPEN=| /usr/bin/lesspipe %s\n",
      "_=/home/alex/GreyCroc/tweeter/bin/python\n",
      "VSCODE_AMD_ENTRYPOINT=vs/workbench/api/node/extensionHostProcess\n",
      "VSCODE_PIPE_LOGGING=true\n",
      "VSCODE_VERBOSE_LOGGING=true\n",
      "VSCODE_LOG_NATIVE=false\n",
      "VSCODE_IPC_HOOK_EXTHOST=/run/user/1000/vscode-ipc-07d6b063-2a03-4be1-ab07-3c75f7e995dd.sock\n",
      "VSCODE_HANDLES_UNCAUGHT_ERRORS=true\n",
      "VSCODE_LOG_STACK=false\n",
      "APPLICATION_INSIGHTS_NO_DIAGNOSTIC_CHANNEL=1\n",
      "PYTHONUNBUFFERED=1\n",
      "VIRTUAL_ENV=/home/alex/GreyCroc/tweeter\n",
      "PYTHONIOENCODING=utf-8\n",
      "PS1=(tweeter) \n",
      "PYTHONNOUSERSITE=True\n",
      "PYDEVD_USE_FRAME_EVAL=NO\n",
      "TERM=xterm-color\n",
      "CLICOLOR=1\n",
      "PAGER=cat\n",
      "GIT_PAGER=cat\n",
      "MPLBACKEND=module://matplotlib_inline.backend_inline\n",
      "GOOGLE_APPLICATION_CREDENTIALS=/home/alex/GreyCroc/Braindump/secure_keys/serene-gradient.json\n"
     ]
    }
   ],
   "source": [
    "import os\n",
    " \n",
    "for k, v in os.environ.items():\n",
    "    print(f'{k}={v}')"
   ]
  },
  {
   "cell_type": "code",
   "execution_count": 2,
   "metadata": {},
   "outputs": [],
   "source": [
    "import os\n",
    "\n",
    "os.environ['GOOGLE_APPLICATION_CREDENTIALS'] = '/home/alex/GreyCroc/Braindump/secure_keys/serene-gradient.json'"
   ]
  },
  {
   "cell_type": "code",
   "execution_count": 2,
   "metadata": {},
   "outputs": [
    {
     "name": "stdout",
     "output_type": "stream",
     "text": [
      "{'userId': 1, 'title': 'Buy milk', 'completed': False, 'id': 201}\n"
     ]
    }
   ],
   "source": [
    "print(jj)"
   ]
  },
  {
   "cell_type": "code",
   "execution_count": 12,
   "metadata": {},
   "outputs": [],
   "source": [
    "# Imports the Google Cloud client library\n",
    "from google.cloud import language_v1\n",
    "\n",
    "# Instantiates a client\n",
    "client = language_v1.LanguageServiceClient()\n",
    "\n",
    "def get_sentiment(self,text:str)->tuple:\n",
    "    \"\"\"\n",
    "    This function getst the sentiment of the text it's given\n",
    "    \"\"\"\n",
    "\n",
    "\n",
    "    # The text to analyze\n",
    "    document = language_v1.Document(\n",
    "        content=text, type_=language_v1.Document.Type.PLAIN_TEXT\n",
    "    )\n",
    "\n",
    "    # Detects the sentiment of the text\n",
    "    sentiment = client.analyze_sentiment(\n",
    "        request={\"document\": document}\n",
    "    ).document_sentiment\n",
    "\n",
    "    return (sentiment.score, sentiment.magnitude)"
   ]
  },
  {
   "cell_type": "code",
   "execution_count": 11,
   "metadata": {},
   "outputs": [],
   "source": [
    "score,mag = get_sentiment('fuck chris paul')"
   ]
  },
  {
   "cell_type": "code",
   "execution_count": null,
   "metadata": {},
   "outputs": [],
   "source": []
  }
 ],
 "metadata": {
  "interpreter": {
   "hash": "e2c2b7ca2e81fd4f06e080ad7d061071947d83e0b90ed1c20cbcd623f1f7b9e5"
  },
  "kernelspec": {
   "display_name": "Python 3.8.10 ('tweeter': venv)",
   "language": "python",
   "name": "python3"
  },
  "language_info": {
   "codemirror_mode": {
    "name": "ipython",
    "version": 3
   },
   "file_extension": ".py",
   "mimetype": "text/x-python",
   "name": "python",
   "nbconvert_exporter": "python",
   "pygments_lexer": "ipython3",
   "version": "3.8.10"
  },
  "orig_nbformat": 4
 },
 "nbformat": 4,
 "nbformat_minor": 2
}
